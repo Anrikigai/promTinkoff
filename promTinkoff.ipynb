{
    "cells": [
        {
            "cell_type": "code",
            "execution_count": null,
            "source": [
                "import time\n",
                "import os\n",
                "from openapi_client import openapi"
            ],
            "outputs": [],
            "metadata": {}
        },
        {
            "cell_type": "code",
            "execution_count": null,
            "source": [
                "    TOKEN = os.getenv('TINVEST_TOKEN', '')\n",
                "    tinkoff_client = openapi.api_client(TOKEN)\n",
                "\n",
                "    tinkoff_accounts = tinkoff_client.user.user_accounts_get().payload.accounts\n",
                "    print(tinkoff_accounts)"
            ],
            "outputs": [],
            "metadata": {}
        },
        {
            "cell_type": "code",
            "execution_count": null,
            "source": [
                "    for account in tinkoff_accounts:\n",
                "        print(f\"account={account.broker_account_type}\")\n",
                "        pf = tinkoff_client.portfolio.portfolio_get(broker_account_id=account.broker_account_id)\n",
                "        for position in pf.payload.positions:\n",
                "            print(position)\n",
                "            #curr_position = position.average_position_price.currency\n"
            ],
            "outputs": [],
            "metadata": {}
        },
        {
            "cell_type": "code",
            "execution_count": null,
            "source": [
                "    for account in tinkoff_accounts:\n",
                "        print(f\"account={account.broker_account_type}\")\n",
                "        pf = tinkoff_client.portfolio.portfolio_currencies_get(broker_account_id=account.broker_account_id)\n",
                "#        print(pf)\n",
                "        for position in pf.payload.currencies:\n",
                "            print(position)\n"
            ],
            "outputs": [],
            "metadata": {}
        },
        {
            "cell_type": "code",
            "execution_count": null,
            "source": [
                "    for account in tinkoff_accounts:\n",
                "        print(f\"account={account.broker_account_type}\")\n",
                "        pf = tinkoff_client.market.market_currencies_get().payload.instruments\n",
                "        #print(pf)\n",
                "    USDRUB = tinkoff_client.market.market_orderbook_get(depth=1,figi=\"BBG0013HGFT4\").payload.last_price\n",
                "    print(USDRUB)\n",
                "    USDEUR = tinkoff_client.market.market_orderbook_get(depth=1,figi=\"BBG0013HJJ31\").payload.last_price\n",
                "    print(USDEUR)    "
            ],
            "outputs": [],
            "metadata": {}
        },
        {
            "cell_type": "code",
            "execution_count": null,
            "source": [
                "f=-1.8433808971120367 \n",
                "print(f\"{f}\")"
            ],
            "outputs": [],
            "metadata": {}
        }
    ],
    "metadata": {
        "orig_nbformat": 4,
        "language_info": {
            "name": "python",
            "version": "3.8.10",
            "mimetype": "text/x-python",
            "codemirror_mode": {
                "name": "ipython",
                "version": 3
            },
            "pygments_lexer": "ipython3",
            "nbconvert_exporter": "python",
            "file_extension": ".py"
        },
        "kernelspec": {
            "name": "python3",
            "display_name": "Python 3.8.10 64-bit"
        },
        "interpreter": {
            "hash": "31f2aee4e71d21fbe5cf8b01ff0e069b9275f58929596ceb00d14d90e3e16cd6"
        }
    },
    "nbformat": 4,
    "nbformat_minor": 2
}